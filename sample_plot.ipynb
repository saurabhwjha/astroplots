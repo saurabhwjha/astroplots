{
 "cells": [
  {
   "cell_type": "code",
   "execution_count": 32,
   "metadata": {},
   "outputs": [
    {
     "data": {
      "image/png": "[encoded data removed]",
      "text/plain": [
       "<Figure size 432x288 with 1 Axes>"
      ]
     },
     "metadata": {},
     "output_type": "display_data"
    }
   ],
   "source": [
    "import numpy as np \n",
    "import matplotlib.pyplot as plt \n",
    "\n",
    "\n",
    "ews = np.loadtxt('measured_brg_ews.txt',usecols=(1,2,3,4,5))\n",
    "ews = ews.T \n",
    "\n",
    "measured_ews = ews[0]\n",
    "measured_ew_unc = ews[1]\n",
    "measured_ew_unc_log = 0.434 * (measured_ew_unc / measured_ews)\n",
    "joel_ews = ews[3]\n",
    "joel_minus = ews[2]\n",
    "joel_plus = ews[4]\n",
    "joel_errs = np.array([joel_ews-joel_minus,joel_plus-joel_ews])\n",
    "joel_errs_log = 0.434 * (joel_errs / joel_ews)\n",
    "#plot_bounds = np.array([np.max([measured_ews,joel_plus]),np.max([measured_ews,joel_plus])])\n",
    "#plt.rcParams.update({'font.size': 15})\n",
    "fig, ax = plt.subplots()\n",
    "ax.errorbar(np.log10(joel_ews),np.log10(measured_ews),yerr=measured_ew_unc_log,xerr=joel_errs_log,fmt='None',color='#113166',alpha=0.15)\n",
    "ax.plot(np.log10(joel_ews),np.log10(measured_ews),'s',color='#006289',ms=7,alpha=0.9)\n",
    "#ax.plot([0.0001,np.max([measured_ews,joel_plus])],[0.0001,np.max([measured_ews,joel_plus])],color='k',alpha=0.8)\n",
    "#plt.subplots_adjust(right=0.98,top=0.98)\n",
    "#ax.set_xscale('log')\n",
    "#ax.set_yscale('log')\n",
    "#ax.tick_params(axis='both',which='both',direction='in',top=True,right=True)\n",
    "ax.set_ylabel('log EW[Br-$\\gamma$] (Measured)')\n",
    "ax.set_xlabel('log EW[Br-$\\gamma$] (predicted from photometry)')\n",
    "ax.set_xlim((-0.3,1.8))\n",
    "ax.set_ylim((-1.05,2.5))\n",
    "#ax.set_xticks([-0.5,0.0,0.5,1.0,])\n",
    "#ax.set_yticks([-0.5,0.0,0.5,1.0,1.5])\n",
    "ax.plot([-5,5],[-5,5],'k',alpha=0.5)\n",
    "ax.text(1.6,-0.72,'mean offset = 0.07 dex',horizontalalignment='right')\n",
    "ax.text(1.6,-0.9,'biweight scatter = 0.27 dex',horizontalalignment='right')\n",
    "#ax.plot(0.55,-0.48,'v',color='#7c0b0b',alpha=0.8)\n",
    "plt.show()\n",
    "\n",
    "#residuals = measured_ews - joel_ews \n",
    "#std = np.log10(np.std(residuals))\n",
    "#print(std)\n",
    "\n",
    "\n",
    "\n",
    "#fig2, ax2 = plt.subplots(figsize=(5,5))\n",
    "#ax2.errorbar(measured_ews,joel_ews-measured_ews,yerr=joel_errs,xerr=measured_ew_unc,fmt='s',alpha=0.8)\n",
    "#plt.show()"
   ]
  },
  {
   "cell_type": "code",
   "execution_count": 29,
   "metadata": {},
   "outputs": [
    {
     "data": {
      "text/plain": [
       "RcParams({'agg.path.chunksize': 0,\n",
       "          'axes.labelsize': 19.200000000000003,\n",
       "          'axes.titlesize': u'large',\n",
       "          'boxplot.flierprops.markersize': 5.760000000000001,\n",
       "          'boxplot.meanprops.markersize': 5.760000000000001,\n",
       "          'errorbar.capsize': 0.0,\n",
       "          'figure.figsize': [6.0, 4.0],\n",
       "          'figure.titlesize': 'large',\n",
       "          'font.size': 4.800000000000001,\n",
       "          'legend.fontsize': 'medium',\n",
       "          'lines.markersize': 5.760000000000001,\n",
       "          'ps.papersize': 'letter',\n",
       "          'xtick.labelsize': 13.440000000000001,\n",
       "          'xtick.major.size': 5.760000000000001,\n",
       "          'xtick.minor.size': 2.8800000000000003,\n",
       "          'ytick.labelsize': 13.440000000000001,\n",
       "          'ytick.major.size': 5.760000000000001,\n",
       "          'ytick.minor.size': 2.8800000000000003})"
      ]
     },
     "execution_count": 29,
     "metadata": {},
     "output_type": "execute_result"
    }
   ],
   "source": [
    "p = plt.rcParams.find_all(pattern='size')\n",
    "p"
   ]
  },
  {
   "cell_type": "code",
   "execution_count": 27,
   "metadata": {},
   "outputs": [],
   "source": [
    "def scale_text(scale='bigger'):\n",
    "    size_params = plt.rcParams.find_all(pattern='size')\n",
    "    for i in size_params:\n",
    "        if isinstance(plt.rcParams[i],float):\n",
    "            if scale=='bigger':\n",
    "                plt.rcParams[i]*=0.8\n",
    "    \n",
    "    \n",
    "    "
   ]
  },
  {
   "cell_type": "code",
   "execution_count": 31,
   "metadata": {},
   "outputs": [],
   "source": [
    "scale_text()"
   ]
  },
  {
   "cell_type": "code",
   "execution_count": null,
   "metadata": {},
   "outputs": [],
   "source": []
  }
 ],
 "metadata": {
  "anaconda-cloud": {},
  "kernelspec": {
   "display_name": "Python [Root]",
   "language": "python",
   "name": "Python [Root]"
  }
 },
 "nbformat": 4,
 "nbformat_minor": 2
}
